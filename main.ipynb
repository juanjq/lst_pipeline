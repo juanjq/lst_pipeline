{
 "cells": [
  {
   "cell_type": "code",
   "execution_count": 81,
   "id": "7b3b4638",
   "metadata": {},
   "outputs": [
    {
     "data": {
      "text/html": [
       "<style>.container { width:100% !important; }</style>"
      ],
      "text/plain": [
       "<IPython.core.display.HTML object>"
      ]
     },
     "metadata": {},
     "output_type": "display_data"
    }
   ],
   "source": [
    "import matplotlib.pyplot as plt\n",
    "import numpy as np\n",
    "import astropy.units as u\n",
    "from datetime import datetime\n",
    "import pickle, json, sys, os, glob\n",
    "import pandas as pd\n",
    "pd.set_option('display.max_columns', None)\n",
    "\n",
    "from IPython.display import display, HTML\n",
    "display(HTML(\"<style>.container { width:100% !important; }</style>\"))\n",
    "\n",
    "import utils\n",
    "\n",
    "\n",
    "# from ctapipe.io import read_table\n",
    "# from astropy.table import vstack, Table\n",
    "# # from lstchain.io.io import dl1_params_lstcam_key, dl1_images_lstcam_key\n",
    "# # from lstchain.io.io import dl1_params_tel_mon_ped_key, dl1_params_tel_mon_cal_key, dl1_params_tel_mon_flat_key\n",
    "# import matplotlib.pyplot as plt\n",
    "# import numpy as np\n",
    "\n",
    "# from ctapipe.visualization import CameraDisplay\n",
    "# from ctapipe.coordinates import EngineeringCameraFrame\n",
    "# from ctapipe.instrument import SubarrayDescription\n",
    "# from ctapipe.containers import EventType\n",
    "\n",
    "from ctapipe.io import read_table\n",
    "from astropy.coordinates import SkyCoord\n",
    "from traitlets.config.loader import Config\n",
    "from lstchain.io.config import get_standard_config"
   ]
  },
  {
   "cell_type": "markdown",
   "id": "3cff6f04",
   "metadata": {},
   "source": [
    "# Some configurations"
   ]
  },
  {
   "cell_type": "code",
   "execution_count": 2,
   "id": "d56ff173",
   "metadata": {},
   "outputs": [],
   "source": [
    "# Source specifications\n",
    "source_name = \"crab\"\n",
    "\n",
    "# Maybe we add a way to extract the run numbers we are interested in\n",
    "run_numbers = [6172, 6242, 6194, 6875, 6892, 6893]\n"
   ]
  },
  {
   "cell_type": "markdown",
   "id": "d4ea7368",
   "metadata": {},
   "source": [
    "# Paths to data and results"
   ]
  },
  {
   "cell_type": "code",
   "execution_count": 3,
   "id": "66854bb2",
   "metadata": {},
   "outputs": [],
   "source": [
    "# Root path of this script\n",
    "root = \"/fefs/aswg/workspace/juan.jimenez/lst_pipeline/\"\n",
    "# Path to store the configuration file we are going to use\n",
    "config_file = root + \"objects/standard_config.json\"\n",
    "# Data main directory\n",
    "root_data = root + f\"../../data/tests/{source_name}/\"\n",
    "\n",
    "# STANDARD paths ---------\n",
    "# DL1 data root\n",
    "dl1_root = \"/fefs/aswg/data/real/DL1/*/v*/tailcut84/\"\n",
    "# RFs root main directory\n",
    "rfs_root = \"/fefs/aswg/data/models/AllSky/20230901_v0.10.4_allsky_base_prod/\"\n",
    "# MCs dl2 main directory\n",
    "mcs_root = \"/fefs/aswg/data/mc/DL2/AllSky/20230901_v0.10.4_allsky_base_prod/TestingDataset/\"\n",
    "\n",
    "\n",
    "# Creating the directories in case they don't exist\n",
    "for path in [config_file, root_data + \"dl1b/\", root_data + \"dl2/\", root_data + \"dl3/\", root_data + \"irfs/\"]:\n",
    "    if not os.path.exists(path):\n",
    "        os.makedirs(os.path.join(path), exist_ok=True)"
   ]
  },
  {
   "cell_type": "markdown",
   "id": "ccb8d10f",
   "metadata": {},
   "source": [
    "# Opening and storing configuration file"
   ]
  },
  {
   "cell_type": "code",
   "execution_count": 4,
   "id": "5030e785",
   "metadata": {},
   "outputs": [],
   "source": [
    "config_dict = get_standard_config()\n",
    "# print(config_dict)\n",
    "\n",
    "#-------------------\n",
    "# Changes in the configuration should be done here\n",
    "\n",
    "# We select the heuristic flatfield option in the standard configuration\n",
    "config_dict[\"source_config\"][\"LSTEventSource\"][\"use_flatfield_heuristic\"] = True\n",
    "\n",
    "#-------------------\n",
    "\n",
    "with open(config_file, 'w') as json_file:\n",
    "    json.dump(config_dict, json_file)"
   ]
  },
  {
   "cell_type": "markdown",
   "id": "66b32e12",
   "metadata": {},
   "source": [
    "# Finding the files that interest us\n",
    "#### Extracting dl1 files and dl1 datachecks"
   ]
  },
  {
   "cell_type": "code",
   "execution_count": 5,
   "id": "e95eb908",
   "metadata": {},
   "outputs": [
    {
     "name": "stdout",
     "output_type": "stream",
     "text": [
      "\n",
      "Adding dl1  data to dictionary...\n",
      "...Finished adding dl1 data to dictionary\n",
      "\n",
      "Adding dl1 datacheck data to dictionary...\n",
      "...Finished adding dl1 data to dictionary\n"
     ]
    }
   ],
   "source": [
    "# Getting coordinates of source\n",
    "source_coords = SkyCoord.from_name(source_name)\n",
    "\n",
    "dict_source = {\n",
    "    \"name\"   : source_name,\n",
    "    \"coords\" : source_coords,\n",
    "    \"ra\"     : source_coords.ra.deg  * u.deg, # ra in degrees\n",
    "    \"dec\"    : source_coords.dec.deg * u.deg, # dec in degrees\n",
    "},\n",
    "\n",
    "# We create a empty dictionary to store all the information needed inside\n",
    "DICT = {}\n",
    "for run in run_numbers:\n",
    "    DICT[run] = {\n",
    "        \"run_num\" : run,\n",
    "        \"errors\"  : \"\", # log of errors trough the analysis\n",
    "    }\n",
    "\n",
    "DICT = utils.add_dl1_paths_to_dict(DICT, dl1_root)\n",
    "DICT = utils.add_dl1_paths_to_dict(DICT, dl1_root, dchecking=True)"
   ]
  },
  {
   "cell_type": "markdown",
   "id": "fac5fda0",
   "metadata": {},
   "source": [
    "#### Then we read the observations information and we add it to the DICT"
   ]
  },
  {
   "cell_type": "code",
   "execution_count": 121,
   "id": "91f1e1ce",
   "metadata": {},
   "outputs": [
    {
     "name": "stdout",
     "output_type": "stream",
     "text": [
      "CPU times: user 751 ms, sys: 285 ms, total: 1.04 s\n",
      "Wall time: 1.03 s\n"
     ]
    }
   ],
   "source": [
    "%%time\n",
    "for run in run_numbers:\n",
    "\n",
    "    tab = read_table(DICT[run][\"dchecks\"][\"runwise\"], \"/dl1datacheck/cosmics\")\n",
    "    \n",
    "    # reading the variables\n",
    "    zd = 90 - np.rad2deg(np.array(tab[\"mean_alt_tel\"]))\n",
    "    az = np.rad2deg(np.array(tab[\"mean_az_tel\"]))\n",
    "    t_start   = tab[\"dragon_time\"][0][0]\n",
    "    t_elapsed = np.array(tab[\"elapsed_time\"])\n",
    "    \n",
    "    DICT[run][\"time\"] = {\n",
    "        \"tstart\"   : t_start,            # datetime object\n",
    "        \"telapsed\" : np.sum(t_elapsed),  # s\n",
    "        \"srunwise\" : {\n",
    "            \"telapsed\" : t_elapsed,      # s      \n",
    "        },\n",
    "    }\n",
    "    DICT[run][\"pointing\"] = {\n",
    "        \"zd\" : np.mean(zd),  # deg\n",
    "        \"az\" : np.mean(az),  # deg\n",
    "        \"srunwise\" : {\n",
    "            \"zd\" : zd,       # deg\n",
    "            \"az\" : az,       # deg\n",
    "        },\n",
    "    }"
   ]
  },
  {
   "cell_type": "code",
   "execution_count": 127,
   "id": "331e0bee",
   "metadata": {},
   "outputs": [],
   "source": [
    "# finding the RF nodes in DEC\n",
    "rfs_decs = os.listdir(rfs_root)\n",
    "rf_nodes_dec = [float(d.split(\"_\")[-1][:-2] + \".\" + d.split(\"_\")[-1][-2:]) for d in rfs_decs]"
   ]
  },
  {
   "cell_type": "code",
   "execution_count": 139,
   "id": "6e7bb52a",
   "metadata": {},
   "outputs": [],
   "source": [
    "# and the MC nodes in AZ ZD\n",
    "mcs_decs = os.listdir(mcs_root)\n",
    "mc_nodes_dec = [float(d.split(\"_\")[-1][:-2] + \".\" + d.split(\"_\")[-1][-2:]) for d in mcs_decs]\n",
    "\n",
    "for i, dec in enumerate(mcs_decs):\n",
    "    nodes = os.listdir(mcs_root + dec)\n",
    "    zds = [float(n.split(\"_\")[2]) for n in nodes]\n",
    "    azs = [float(n.split(\"_\")[4]) for n in nodes]"
   ]
  },
  {
   "cell_type": "code",
   "execution_count": 140,
   "id": "7df2de90",
   "metadata": {
    "scrolled": true
   },
   "outputs": [
    {
     "data": {
      "text/plain": [
       "[73.142,\n",
       " 70.732,\n",
       " 43.113,\n",
       " 43.197,\n",
       " 68.068,\n",
       " 52.374,\n",
       " 60.528,\n",
       " 60.66,\n",
       " 52.374,\n",
       " 52.374,\n",
       " 14.984,\n",
       " 37.814,\n",
       " 43.197,\n",
       " 57.995,\n",
       " 43.197,\n",
       " 10.0,\n",
       " 35.904,\n",
       " 69.512,\n",
       " 68.068,\n",
       " 67.045,\n",
       " 75.226,\n",
       " 55.25,\n",
       " 60.528,\n",
       " 60.528,\n",
       " 74.336,\n",
       " 70.732,\n",
       " 65.976,\n",
       " 32.059,\n",
       " 63.255,\n",
       " 65.976,\n",
       " 65.796,\n",
       " 23.63,\n",
       " 60.528,\n",
       " 43.197,\n",
       " 52.374,\n",
       " 60.528,\n",
       " 75.226,\n",
       " 39.646,\n",
       " 57.995,\n",
       " 52.41,\n",
       " 55.944,\n",
       " 75.226,\n",
       " 32.059,\n",
       " 75.226,\n",
       " 75.226,\n",
       " 75.522,\n",
       " 60.528,\n",
       " 82.155,\n",
       " 52.374,\n",
       " 55.25,\n",
       " 10.0,\n",
       " 60.528,\n",
       " 59.336,\n",
       " 61.965,\n",
       " 47.952,\n",
       " 46.37,\n",
       " 49.458,\n",
       " 43.197,\n",
       " 68.068,\n",
       " 52.374,\n",
       " 14.984,\n",
       " 52.41,\n",
       " 68.068,\n",
       " 32.059,\n",
       " 68.284,\n",
       " 55.944,\n",
       " 43.197,\n",
       " 35.904,\n",
       " 32.059,\n",
       " 49.458,\n",
       " 73.142,\n",
       " 64.533,\n",
       " 37.814,\n",
       " 75.522,\n",
       " 39.646,\n",
       " 56.633,\n",
       " 61.965,\n",
       " 75.226,\n",
       " 68.068,\n",
       " 43.197,\n",
       " 63.255,\n",
       " 82.155,\n",
       " 67.045,\n",
       " 56.633,\n",
       " 43.113,\n",
       " 23.63,\n",
       " 64.533,\n",
       " 32.059,\n",
       " 68.284,\n",
       " 46.37,\n",
       " 71.94,\n",
       " 69.512,\n",
       " 59.336,\n",
       " 52.374,\n",
       " 75.226,\n",
       " 74.336,\n",
       " 52.374,\n",
       " 65.796,\n",
       " 68.068,\n",
       " 60.66,\n",
       " 68.068,\n",
       " 52.374,\n",
       " 47.952,\n",
       " 71.94,\n",
       " 32.059]"
      ]
     },
     "execution_count": 140,
     "metadata": {},
     "output_type": "execute_result"
    }
   ],
   "source": [
    "zds"
   ]
  },
  {
   "cell_type": "code",
   "execution_count": null,
   "id": "c656810c",
   "metadata": {},
   "outputs": [],
   "source": []
  },
  {
   "cell_type": "code",
   "execution_count": 128,
   "id": "10834e7a",
   "metadata": {},
   "outputs": [
    {
     "data": {
      "text/plain": [
       "[9.31, 34.76, 66.76, 4.13, 22.76, 48.22]"
      ]
     },
     "execution_count": 128,
     "metadata": {},
     "output_type": "execute_result"
    }
   ],
   "source": [
    "rf_nodes"
   ]
  },
  {
   "cell_type": "code",
   "execution_count": 188,
   "id": "6831dd34",
   "metadata": {},
   "outputs": [
    {
     "data": {
      "image/png": "[encoded data removed]",
      "text/plain": [
       "<Figure size 1000x600 with 2 Axes>"
      ]
     },
     "metadata": {},
     "output_type": "display_data"
    }
   ],
   "source": [
    "fig = plt.figure(figsize=(10, 6))\n",
    "ax1 = fig.add_subplot(121)\n",
    "ax2 = fig.add_subplot(122, projection=\"polar\")\n",
    "\n",
    "for run in run_numbers:\n",
    "    color = np.random.rand(3) # random color for each run\n",
    "    for ax, marker in [ax1, ax2]:\n",
    "        ax.plot(np.deg2rad(DICT[run][\"pointing\"][\"srunwise\"][\"az\"]), DICT[run][\"pointing\"][\"srunwise\"][\"zd\"], marker=\"\",  color=color, ls=\"-\", lw=3)\n",
    "        ax.plot(np.deg2rad(DICT[run][\"pointing\"][\"az\"]),             DICT[run][\"pointing\"][\"zd\"],             marker=\"o\", color=color, ls=\"\",  ms=6)\n",
    "        ax.plot([], [], marker=\"o\", ls=\"-\", lw=3, color=color, label=f\"Run {run}\")\n",
    "\n",
    "for ax in [ax1, ax2]:\n",
    "    ax.plot(np.deg2rad(azs), zds, marker=\"x\", ls=\"\", color=\"k\", zorder=-10)   \n",
    "    ax.grid(True)\n",
    "\n",
    "ax2.legend(loc=\"upper left\", bbox_to_anchor=(1, 1))\n",
    "ax2.set_yticklabels([])\n",
    "ax2.set_yticks([22.5, 45, 67.5])\n",
    "ax2.set_ylim(0, 90)\n",
    "ax1.set_xlabel(\"az [deg]\", labelpad=10)\n",
    "ax1.set_ylabel(\"zd [deg]\", labelpad=30)\n",
    "plt.show()"
   ]
  },
  {
   "cell_type": "code",
   "execution_count": 169,
   "id": "b4ba773d",
   "metadata": {},
   "outputs": [
    {
     "data": {
      "image/png": "[encoded data removed]",
      "text/plain": [
       "<Figure size 500x500 with 1 Axes>"
      ]
     },
     "metadata": {},
     "output_type": "display_data"
    }
   ],
   "source": [
    "fig, ax = plt.subplots(figsize=(5, 5), subplot_kw={'projection': 'polar'})\n",
    "\n",
    "x = np.deg2rad(np.linspace(0, 180, 100))\n",
    "y = np.deg2rad(np.linspace(0, 360, 100))\n",
    "plt.plot(x,y)\n",
    "plt.show()"
   ]
  },
  {
   "cell_type": "code",
   "execution_count": 68,
   "id": "9e5bffd1",
   "metadata": {},
   "outputs": [
    {
     "data": {
      "text/plain": [
       "20.099662776788076"
      ]
     },
     "execution_count": 68,
     "metadata": {},
     "output_type": "execute_result"
    }
   ],
   "source": [
    "total_t_elapsed/60"
   ]
  },
  {
   "cell_type": "code",
   "execution_count": 62,
   "id": "ce0a5bd2",
   "metadata": {},
   "outputs": [
    {
     "data": {
      "text/plain": [
       "1644015343.2623787"
      ]
     },
     "execution_count": 62,
     "metadata": {},
     "output_type": "execute_result"
    }
   ],
   "source": [
    "timestamp"
   ]
  },
  {
   "cell_type": "code",
   "execution_count": 12,
   "id": "b4bfb072",
   "metadata": {},
   "outputs": [],
   "source": [
    "import pandas as pd\n",
    "import h5py"
   ]
  },
  {
   "cell_type": "code",
   "execution_count": 15,
   "id": "efbd2ad1",
   "metadata": {},
   "outputs": [],
   "source": [
    "a = h5py.File(DICT[6875][\"dchecks\"][\"runwise\"])"
   ]
  },
  {
   "cell_type": "code",
   "execution_count": 25,
   "id": "4a5d69d3",
   "metadata": {},
   "outputs": [],
   "source": [
    "b = a[\"dl1datacheck/cosmics\"]"
   ]
  },
  {
   "cell_type": "code",
   "execution_count": 31,
   "id": "178e76b7",
   "metadata": {},
   "outputs": [
    {
     "data": {
      "text/plain": [
       "<bound method Dataset.fields of <HDF5 dataset \"cosmics\": shape (172,), type \"|V668440\">>"
      ]
     },
     "execution_count": 31,
     "metadata": {},
     "output_type": "execute_result"
    }
   ],
   "source": [
    "b.fields"
   ]
  },
  {
   "cell_type": "markdown",
   "id": "d845a3d5",
   "metadata": {},
   "source": [
    "#### First the RFs we need to use for the source"
   ]
  },
  {
   "cell_type": "markdown",
   "id": "b4b53b72",
   "metadata": {},
   "source": [
    "#### Then the MC dl2 files associated to our observations"
   ]
  },
  {
   "cell_type": "code",
   "execution_count": null,
   "id": "6f692f6e",
   "metadata": {},
   "outputs": [],
   "source": [
    "DICT[6875]"
   ]
  },
  {
   "cell_type": "code",
   "execution_count": null,
   "id": "60ec5166",
   "metadata": {},
   "outputs": [],
   "source": []
  },
  {
   "cell_type": "code",
   "execution_count": null,
   "id": "cb147efc",
   "metadata": {},
   "outputs": [],
   "source": []
  },
  {
   "cell_type": "code",
   "execution_count": null,
   "id": "c57c3a29",
   "metadata": {},
   "outputs": [],
   "source": []
  },
  {
   "cell_type": "code",
   "execution_count": null,
   "id": "fd051f8f",
   "metadata": {},
   "outputs": [],
   "source": []
  },
  {
   "cell_type": "code",
   "execution_count": null,
   "id": "9c8d50d2",
   "metadata": {},
   "outputs": [],
   "source": []
  },
  {
   "cell_type": "code",
   "execution_count": null,
   "id": "6d6326b9",
   "metadata": {},
   "outputs": [],
   "source": []
  },
  {
   "cell_type": "code",
   "execution_count": null,
   "id": "b97cca98",
   "metadata": {},
   "outputs": [],
   "source": []
  },
  {
   "cell_type": "code",
   "execution_count": null,
   "id": "2719e761",
   "metadata": {},
   "outputs": [],
   "source": [
    "# source_ra  = f\"{source_coords.ra.deg}deg\"\n",
    "# source_dec = f\"{source_coords.dec.deg}deg\""
   ]
  },
  {
   "cell_type": "code",
   "execution_count": null,
   "id": "0f516e85",
   "metadata": {},
   "outputs": [],
   "source": []
  },
  {
   "cell_type": "code",
   "execution_count": null,
   "id": "4666db07",
   "metadata": {},
   "outputs": [],
   "source": []
  },
  {
   "cell_type": "code",
   "execution_count": null,
   "id": "6706f140",
   "metadata": {},
   "outputs": [],
   "source": []
  },
  {
   "cell_type": "code",
   "execution_count": null,
   "id": "72198f41",
   "metadata": {},
   "outputs": [],
   "source": [
    "k = \"source_config\"\n",
    "kk = \"LSTEventSource\"\n",
    "for kkk in config[k][kk].keys():\n",
    "    try:\n",
    "        print(kkk, config[k][kk][kkk] == dictionary[k][kk][kkk])\n",
    "    except:\n",
    "        print(kkk, \"ERRRO\")"
   ]
  },
  {
   "cell_type": "code",
   "execution_count": null,
   "id": "5d9e9564",
   "metadata": {
    "scrolled": false
   },
   "outputs": [],
   "source": [
    "k, kk, config[k][kk]"
   ]
  },
  {
   "cell_type": "code",
   "execution_count": null,
   "id": "d4f6013b",
   "metadata": {
    "scrolled": false
   },
   "outputs": [],
   "source": [
    "\n",
    "\n",
    "\n",
    "# Reading the configuration file\n",
    "config = Config(read_configuration_file(config_file))\n",
    "config"
   ]
  },
  {
   "cell_type": "code",
   "execution_count": null,
   "id": "28858a1f",
   "metadata": {},
   "outputs": [],
   "source": []
  },
  {
   "cell_type": "code",
   "execution_count": null,
   "id": "be1d0b59",
   "metadata": {},
   "outputs": [],
   "source": []
  },
  {
   "cell_type": "code",
   "execution_count": null,
   "id": "5763ffc3",
   "metadata": {},
   "outputs": [],
   "source": []
  },
  {
   "cell_type": "code",
   "execution_count": null,
   "id": "dd0adecc",
   "metadata": {},
   "outputs": [],
   "source": []
  },
  {
   "cell_type": "code",
   "execution_count": null,
   "id": "8ca19e08",
   "metadata": {},
   "outputs": [],
   "source": []
  },
  {
   "cell_type": "code",
   "execution_count": null,
   "id": "de2fc2df",
   "metadata": {},
   "outputs": [],
   "source": []
  },
  {
   "cell_type": "code",
   "execution_count": null,
   "id": "31af575b",
   "metadata": {},
   "outputs": [],
   "source": []
  },
  {
   "cell_type": "code",
   "execution_count": null,
   "id": "b65493a6-a87e-4f8f-a796-e11a21e2f966",
   "metadata": {},
   "outputs": [],
   "source": [
    "!lstchain_dl1ab -h"
   ]
  },
  {
   "cell_type": "code",
   "execution_count": null,
   "id": "d5d1df3c",
   "metadata": {},
   "outputs": [],
   "source": [
    "test_dl1 = \"test_data/dl1_LST-1.Run02977.0122.h5\"\n",
    "config_file = \"/fefs/aswg/lstosa/config_files_lstchain/lstchain_standard_v0.10_heuristic_ff.json\"\n",
    "newname  = \"test_data/dl1_LST-1.Run02977.0122_ls0.9.h5\"\n",
    "\n",
    "!lstchain_dl1ab \\\n",
    "    -f $test_dl1 \\\n",
    "    -o $newname \\\n",
    "    -c $config_file \\\n",
    "    --light-scaling 0.9 \\"
   ]
  },
  {
   "cell_type": "code",
   "execution_count": null,
   "id": "d8f93877",
   "metadata": {},
   "outputs": [],
   "source": [
    "subarray_info = SubarrayDescription.from_hdf(test_dl1)\n",
    "camgeom = subarray_info.tel[1].camera.geometry\n",
    "\n",
    "# Read parameters table from file:\n",
    "dl1_parameters = read_table(test_dl1, dl1_params_lstcam_key)\n",
    "dl1_parameters_b = read_table(newname, dl1_params_lstcam_key)\n",
    "dl1_parameters.columns"
   ]
  },
  {
   "cell_type": "code",
   "execution_count": null,
   "id": "5fa20e85",
   "metadata": {},
   "outputs": [],
   "source": [
    "plt.hist2d(np.log10(dl1_parameters['intensity'][cosmics & valid_image]), np.log10(dl1_parameters_b['intensity'][cosmics & valid_image]), 200);"
   ]
  },
  {
   "cell_type": "code",
   "execution_count": null,
   "id": "a1cec183",
   "metadata": {},
   "outputs": [],
   "source": []
  },
  {
   "cell_type": "code",
   "execution_count": null,
   "id": "977bce81",
   "metadata": {},
   "outputs": [],
   "source": []
  },
  {
   "cell_type": "code",
   "execution_count": null,
   "id": "b0aa9ed2",
   "metadata": {},
   "outputs": [],
   "source": [
    "cosmics = dl1_parameters['event_type'] == EventType.SUBARRAY.value\n",
    "pedestals = dl1_parameters['event_type'] == EventType.SKY_PEDESTAL.value\n",
    "flatfield = dl1_parameters['event_type'] == EventType.FLATFIELD.value\n",
    "\n",
    "print('Cosmics (showers):', np.sum(cosmics))\n",
    "print('Interleaved pedestals:', np.sum(pedestals))\n",
    "print('Interleaved flatfield:', np.sum(flatfield))"
   ]
  },
  {
   "cell_type": "code",
   "execution_count": null,
   "id": "d570b891",
   "metadata": {},
   "outputs": [],
   "source": [
    "valid_image = dl1_parameters['intensity'] > 0 # Image survived image and was parametrized\n",
    "print(\"Events which survived cleaning:\")\n",
    "print('Cosmics (showers):', np.sum(cosmics & valid_image))\n",
    "print('Interleaved pedestals:', np.sum(pedestals & valid_image))\n",
    "print('Interleaved flatfield:', np.sum(flatfield & valid_image))"
   ]
  },
  {
   "cell_type": "code",
   "execution_count": null,
   "id": "bab36dab",
   "metadata": {},
   "outputs": [],
   "source": [
    "plt.figure(figsize=(10,4))\n",
    "plt.hist(np.log10(dl1_parameters['intensity'][cosmics & valid_image]), \n",
    "         bins=120, range=(1, 7), histtype='step', log=True, label='cosmics')\n",
    "plt.hist(np.log10(dl1_parameters['intensity'][flatfield & valid_image]), \n",
    "         bins=120, range=(1, 7), histtype='step', log=True, label='flatfield')\n",
    "plt.hist(np.log10(dl1_parameters['intensity'][pedestals & valid_image]), \n",
    "         bins=120, range=(1, 7), histtype='step', log=True, label='pedestals')\n",
    "plt.legend()\n",
    "plt.xlabel('log10(Intensity/p.e.)')\n",
    "plt.ylabel('events')\n",
    "plt.show()"
   ]
  },
  {
   "cell_type": "code",
   "execution_count": null,
   "id": "09f4863b",
   "metadata": {},
   "outputs": [],
   "source": [
    "dl1_images = read_table(test_dl1, dl1_images_lstcam_key)\n",
    "\n",
    "# Locate first table entry for which n_pixels (after cleaning) is larger than 100, \n",
    "# is more or less centered (c.o.g. within 0.5 m of the camera center), and is a cosmic (=\"SUBARRAY\"):\n",
    "mask = ((dl1_parameters['intensity'] > 1000) &\n",
    "        (dl1_parameters['n_pixels']>200) & \n",
    "        (dl1_parameters['r']<0.5*u.m) &\n",
    "        (dl1_parameters['event_type']==EventType.SUBARRAY.value)\n",
    "       )\n",
    "\n",
    "index = np.where(mask)[0][0]"
   ]
  },
  {
   "cell_type": "code",
   "execution_count": null,
   "id": "a9dcf065",
   "metadata": {},
   "outputs": [],
   "source": [
    "plt.figure(figsize=(10,8))\n",
    "camdisplay = CameraDisplay(camgeom, dl1_images['image'][index])\n",
    "camdisplay.add_colorbar()\n",
    "plt.show()"
   ]
  },
  {
   "cell_type": "code",
   "execution_count": null,
   "id": "2f770e84",
   "metadata": {},
   "outputs": [],
   "source": []
  },
  {
   "cell_type": "code",
   "execution_count": null,
   "id": "9f9cf253",
   "metadata": {},
   "outputs": [],
   "source": []
  },
  {
   "cell_type": "code",
   "execution_count": null,
   "id": "f37cce0b",
   "metadata": {},
   "outputs": [],
   "source": []
  },
  {
   "cell_type": "code",
   "execution_count": null,
   "id": "58fb134a",
   "metadata": {},
   "outputs": [],
   "source": []
  },
  {
   "cell_type": "code",
   "execution_count": null,
   "id": "8d3cb083",
   "metadata": {},
   "outputs": [],
   "source": []
  },
  {
   "cell_type": "code",
   "execution_count": null,
   "id": "f196a134",
   "metadata": {},
   "outputs": [],
   "source": []
  }
 ],
 "metadata": {
  "kernelspec": {
   "display_name": "Python 3 (ipykernel)",
   "language": "python",
   "name": "python3"
  },
  "language_info": {
   "codemirror_mode": {
    "name": "ipython",
    "version": 3
   },
   "file_extension": ".py",
   "mimetype": "text/x-python",
   "name": "python",
   "nbconvert_exporter": "python",
   "pygments_lexer": "ipython3",
   "version": "3.10.11"
  }
 },
 "nbformat": 4,
 "nbformat_minor": 5
}
